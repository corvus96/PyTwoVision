{
  "nbformat": 4,
  "nbformat_minor": 0,
  "metadata": {
    "colab": {
      "provenance": []
    },
    "kernelspec": {
      "name": "python3",
      "display_name": "Python 3"
    },
    "language_info": {
      "name": "python"
    }
  },
  "cells": [
    {
      "cell_type": "markdown",
      "source": [
        "# How to implement a positioning of objects"
      ],
      "metadata": {
        "id": "FcZ8efvO_uQ0"
      }
    },
    {
      "cell_type": "code",
      "execution_count": null,
      "metadata": {
        "id": "uTmAPA6E705j"
      },
      "outputs": [],
      "source": [
        "# First install py2vision\n",
        "!pip install py2vision"
      ]
    },
    {
      "cell_type": "code",
      "source": [
        "# Import all necessary\n",
        "import os\n",
        "\n",
        "from py2vision.input_output.vision_system import VisionSystem\n",
        "from py2vision.input_output.camera import Camera\n",
        "from py2vision.stereo.standard_stereo import StandardStereo\n",
        "from py2vision.stereo.match_method import Matcher, StereoSGBM\n",
        "from py2vision.recognition.yolov3_detector import ObjectDetectorYoloV3\n",
        "from py2vision.recognition.selector import Recognizer"
      ],
      "metadata": {
        "id": "5OgyTSOlAE4C"
      },
      "execution_count": null,
      "outputs": []
    },
    {
      "cell_type": "markdown",
      "source": [
        "## Relevant paths\n",
        "**You can get coco.names here https://github.com/pjreddie/darknet/blob/master/data/coco.names**"
      ],
      "metadata": {
        "id": "PxnXxpFtAhRR"
      }
    },
    {
      "cell_type": "code",
      "source": [
        "classes_file = \"/content/coco.names\"\n",
        "work_dir = \"/content/work_dir\"\n",
        "stereo_maps_path = \"stereoMap\""
      ],
      "metadata": {
        "id": "6UTYgQcbAfh5"
      },
      "execution_count": null,
      "outputs": []
    },
    {
      "cell_type": "markdown",
      "source": [
        "## Create work directory"
      ],
      "metadata": {
        "id": "ftsW3TQTAwZk"
      }
    },
    {
      "cell_type": "code",
      "source": [
        "try:\n",
        "    os.mkdir(work_dir)\n",
        "except:\n",
        "    pass"
      ],
      "metadata": {
        "id": "FSlqGRXnAvYL"
      },
      "execution_count": null,
      "outputs": []
    },
    {
      "cell_type": "markdown",
      "source": [
        "## Calibrate and rectify cameras"
      ],
      "metadata": {
        "id": "5aG5lo3dDWGY"
      }
    },
    {
      "cell_type": "code",
      "source": [
        "left_camera = Camera(\"left_camera\", \"LEFT_IMAGE\")\n",
        "right_camera = Camera(\"right_camera\", \"RIGHT_IMAGE\")\n",
        "stereo_pair_fisheye = StandardStereo(left_camera, right_camera)\n",
        "stereo_pair_fisheye.calibrate(\"PUT_LEFT_CALIBRATION_IMAGE_FOLDER\", \"PUT_RIGHT_CALIBRATION_IMAGE_FOLDER\", show=False)\n",
        "stereo_pair_fisheye.rectify((640, 720), (640, 720), export_file=True, export_file_name=stereo_maps_path)"
      ],
      "metadata": {
        "id": "Bv5uuRTADZRV"
      },
      "execution_count": null,
      "outputs": []
    },
    {
      "cell_type": "markdown",
      "source": [
        "## Configure matcher"
      ],
      "metadata": {
        "id": "fOEiV7BYDguD"
      }
    },
    {
      "cell_type": "code",
      "source": [
        "# Add path format\n",
        "stereo_maps_path = stereo_maps_path + \".xml\"\n",
        "sgbm = StereoSGBM(min_disp=-32, max_disp=32, window_size=3, p1=107, p2=710, pre_filter_cap=36, speckle_window_size=117, speckle_range=5, uniqueness_ratio=3, disp_12_max_diff=-38)\n",
        "matcher = Matcher(sgbm)\n",
        "lmbda = 13673\n",
        "sigma = 1.3175"
      ],
      "metadata": {
        "id": "IgJ-FcsODlJd"
      },
      "execution_count": null,
      "outputs": []
    },
    {
      "cell_type": "markdown",
      "source": [
        "# Restore model weights\n",
        "**You can get COCO weights here https://pjreddie.com/media/files/yolov3.weights"
      ],
      "metadata": {
        "id": "ewIqC1SqD2dh"
      }
    },
    {
      "cell_type": "code",
      "source": [
        "yolov3 = ObjectDetectorYoloV3(\"test\", 80, training=False)\n",
        "recognizer = Recognizer(yolov3)\n",
        "weights_file = \"PLACE_WEIGHTS_PATH_HERE\"\n",
        "recognizer.restore_weights(weights_file)"
      ],
      "metadata": {
        "id": "32rDYc5vD4rP"
      },
      "execution_count": null,
      "outputs": []
    },
    {
      "cell_type": "markdown",
      "source": [
        "## See your model architecture"
      ],
      "metadata": {
        "id": "uxnSTpmxFt6P"
      }
    },
    {
      "cell_type": "code",
      "source": [
        "model = recognizer.get_model()"
      ],
      "metadata": {
        "id": "1tO19arSFtP-"
      },
      "execution_count": null,
      "outputs": []
    },
    {
      "cell_type": "markdown",
      "source": [
        "## Image positioning pipeline"
      ],
      "metadata": {
        "id": "ZaTUPwztF2L8"
      }
    },
    {
      "cell_type": "code",
      "source": [
        "vis_sys = VisionSystem(left_camera, right_camera, stereo_maps_path, matcher, stereo_pair_fisheye.Q)\n",
        "# Here the magic happens\n",
        "vis_sys.image_pipeline(model, classes_file, os.path.join(work_dir, \"test_position.jpg\"),  lmbda=lmbda, sigma=sigma, downsample_for_match=None, show_window=True, score_threshold=0.5, iou_threshold=0.6, otsu_thresh_inverse=True, text_colors=(0, 0, 0))"
      ],
      "metadata": {
        "id": "3fL48LYVF61y"
      },
      "execution_count": null,
      "outputs": []
    }
  ]
}