{
  "cells": [
    {
      "cell_type": "markdown",
      "metadata": {
        "id": "Xnybn-PXGaTL"
      },
      "source": [
        "# **Guide to use pytwovision package**"
      ]
    },
    {
      "cell_type": "code",
      "execution_count": null,
      "metadata": {
        "id": "o61KLk8DK3UN"
      },
      "outputs": [],
      "source": [
        "import sys\n",
        "import os\n",
        "import glob\n",
        "import cv2 as cv\n",
        "import json\n",
        "%matplotlib inline\n",
        "from matplotlib import pyplot as plt\n",
        "from matplotlib.widgets import Slider, Button"
      ]
    },
    {
      "cell_type": "code",
      "execution_count": 3,
      "metadata": {
        "colab": {
          "base_uri": "https://localhost:8080/",
          "height": 1000
        },
        "id": "VmTEL19fZrjk",
        "outputId": "cd1b884d-8c7c-42b0-9bfe-41a9b099d4f2"
      },
      "outputs": [
        {
          "name": "stdout",
          "output_type": "stream",
          "text": [
            "Looking in indexes: https://pypi.org/simple, https://us-python.pkg.dev/colab-wheels/public/simple/\n",
            "Collecting py2vision\n",
            "  Downloading py2vision-1.0.3-py3-none-any.whl (92 kB)\n",
            "\u001b[K     |████████████████████████████████| 92 kB 689 kB/s \n",
            "\u001b[?25hRequirement already satisfied: opencv-contrib-python==4.6.0.66 in /usr/local/lib/python3.7/dist-packages (from py2vision) (4.6.0.66)\n",
            "Collecting numpy==1.21.5\n",
            "  Downloading numpy-1.21.5-cp37-cp37m-manylinux_2_12_x86_64.manylinux2010_x86_64.whl (15.7 MB)\n",
            "\u001b[K     |████████████████████████████████| 15.7 MB 14.7 MB/s \n",
            "\u001b[?25hCollecting tensorflow==2.8.0\n",
            "  Downloading https://us-python.pkg.dev/colab-wheels/public/tensorflow/tensorflow-2.8.0%2Bzzzcolab20220506162203-cp37-cp37m-linux_x86_64.whl (668.3 MB)\n",
            "\u001b[K     |████████████████████████████████| 668.3 MB 15 kB/s \n",
            "\u001b[?25hRequirement already satisfied: pyyaml in /usr/local/lib/python3.7/dist-packages (from py2vision) (6.0)\n",
            "Requirement already satisfied: pandas in /usr/local/lib/python3.7/dist-packages (from py2vision) (1.3.5)\n",
            "Requirement already satisfied: h5py in /usr/local/lib/python3.7/dist-packages (from py2vision) (3.1.0)\n",
            "Collecting wget==3.2\n",
            "  Downloading wget-3.2.zip (10 kB)\n",
            "Requirement already satisfied: typing-extensions>=3.6.6 in /usr/local/lib/python3.7/dist-packages (from tensorflow==2.8.0->py2vision) (4.1.1)\n",
            "Requirement already satisfied: tensorflow-io-gcs-filesystem>=0.23.1 in /usr/local/lib/python3.7/dist-packages (from tensorflow==2.8.0->py2vision) (0.26.0)\n",
            "Requirement already satisfied: six>=1.12.0 in /usr/local/lib/python3.7/dist-packages (from tensorflow==2.8.0->py2vision) (1.15.0)\n",
            "Requirement already satisfied: grpcio<2.0,>=1.24.3 in /usr/local/lib/python3.7/dist-packages (from tensorflow==2.8.0->py2vision) (1.47.0)\n",
            "Requirement already satisfied: keras<2.9,>=2.8.0rc0 in /usr/local/lib/python3.7/dist-packages (from tensorflow==2.8.0->py2vision) (2.8.0)\n",
            "Requirement already satisfied: flatbuffers>=1.12 in /usr/local/lib/python3.7/dist-packages (from tensorflow==2.8.0->py2vision) (2.0.7)\n",
            "Collecting tf-estimator-nightly==2.8.0.dev2021122109\n",
            "  Downloading tf_estimator_nightly-2.8.0.dev2021122109-py2.py3-none-any.whl (462 kB)\n",
            "\u001b[K     |████████████████████████████████| 462 kB 78.3 MB/s \n",
            "\u001b[?25hRequirement already satisfied: wrapt>=1.11.0 in /usr/local/lib/python3.7/dist-packages (from tensorflow==2.8.0->py2vision) (1.14.1)\n",
            "Requirement already satisfied: termcolor>=1.1.0 in /usr/local/lib/python3.7/dist-packages (from tensorflow==2.8.0->py2vision) (1.1.0)\n",
            "Requirement already satisfied: keras-preprocessing>=1.1.1 in /usr/local/lib/python3.7/dist-packages (from tensorflow==2.8.0->py2vision) (1.1.2)\n",
            "Requirement already satisfied: setuptools in /usr/local/lib/python3.7/dist-packages (from tensorflow==2.8.0->py2vision) (57.4.0)\n",
            "Requirement already satisfied: protobuf>=3.9.2 in /usr/local/lib/python3.7/dist-packages (from tensorflow==2.8.0->py2vision) (3.17.3)\n",
            "Requirement already satisfied: opt-einsum>=2.3.2 in /usr/local/lib/python3.7/dist-packages (from tensorflow==2.8.0->py2vision) (3.3.0)\n",
            "Requirement already satisfied: absl-py>=0.4.0 in /usr/local/lib/python3.7/dist-packages (from tensorflow==2.8.0->py2vision) (1.2.0)\n",
            "Requirement already satisfied: astunparse>=1.6.0 in /usr/local/lib/python3.7/dist-packages (from tensorflow==2.8.0->py2vision) (1.6.3)\n",
            "Requirement already satisfied: libclang>=9.0.1 in /usr/local/lib/python3.7/dist-packages (from tensorflow==2.8.0->py2vision) (14.0.6)\n",
            "Requirement already satisfied: tensorboard<2.9,>=2.8 in /usr/local/lib/python3.7/dist-packages (from tensorflow==2.8.0->py2vision) (2.8.0)\n",
            "Requirement already satisfied: gast>=0.2.1 in /usr/local/lib/python3.7/dist-packages (from tensorflow==2.8.0->py2vision) (0.5.3)\n",
            "Requirement already satisfied: google-pasta>=0.1.1 in /usr/local/lib/python3.7/dist-packages (from tensorflow==2.8.0->py2vision) (0.2.0)\n",
            "Requirement already satisfied: wheel<1.0,>=0.23.0 in /usr/local/lib/python3.7/dist-packages (from astunparse>=1.6.0->tensorflow==2.8.0->py2vision) (0.37.1)\n",
            "Requirement already satisfied: cached-property in /usr/local/lib/python3.7/dist-packages (from h5py->py2vision) (1.5.2)\n",
            "Requirement already satisfied: markdown>=2.6.8 in /usr/local/lib/python3.7/dist-packages (from tensorboard<2.9,>=2.8->tensorflow==2.8.0->py2vision) (3.4.1)\n",
            "Requirement already satisfied: werkzeug>=0.11.15 in /usr/local/lib/python3.7/dist-packages (from tensorboard<2.9,>=2.8->tensorflow==2.8.0->py2vision) (1.0.1)\n",
            "Requirement already satisfied: requests<3,>=2.21.0 in /usr/local/lib/python3.7/dist-packages (from tensorboard<2.9,>=2.8->tensorflow==2.8.0->py2vision) (2.23.0)\n",
            "Requirement already satisfied: tensorboard-data-server<0.7.0,>=0.6.0 in /usr/local/lib/python3.7/dist-packages (from tensorboard<2.9,>=2.8->tensorflow==2.8.0->py2vision) (0.6.1)\n",
            "Requirement already satisfied: tensorboard-plugin-wit>=1.6.0 in /usr/local/lib/python3.7/dist-packages (from tensorboard<2.9,>=2.8->tensorflow==2.8.0->py2vision) (1.8.1)\n",
            "Requirement already satisfied: google-auth<3,>=1.6.3 in /usr/local/lib/python3.7/dist-packages (from tensorboard<2.9,>=2.8->tensorflow==2.8.0->py2vision) (1.35.0)\n",
            "Requirement already satisfied: google-auth-oauthlib<0.5,>=0.4.1 in /usr/local/lib/python3.7/dist-packages (from tensorboard<2.9,>=2.8->tensorflow==2.8.0->py2vision) (0.4.6)\n",
            "Requirement already satisfied: cachetools<5.0,>=2.0.0 in /usr/local/lib/python3.7/dist-packages (from google-auth<3,>=1.6.3->tensorboard<2.9,>=2.8->tensorflow==2.8.0->py2vision) (4.2.4)\n",
            "Requirement already satisfied: pyasn1-modules>=0.2.1 in /usr/local/lib/python3.7/dist-packages (from google-auth<3,>=1.6.3->tensorboard<2.9,>=2.8->tensorflow==2.8.0->py2vision) (0.2.8)\n",
            "Requirement already satisfied: rsa<5,>=3.1.4 in /usr/local/lib/python3.7/dist-packages (from google-auth<3,>=1.6.3->tensorboard<2.9,>=2.8->tensorflow==2.8.0->py2vision) (4.9)\n",
            "Requirement already satisfied: requests-oauthlib>=0.7.0 in /usr/local/lib/python3.7/dist-packages (from google-auth-oauthlib<0.5,>=0.4.1->tensorboard<2.9,>=2.8->tensorflow==2.8.0->py2vision) (1.3.1)\n",
            "Requirement already satisfied: importlib-metadata>=4.4 in /usr/local/lib/python3.7/dist-packages (from markdown>=2.6.8->tensorboard<2.9,>=2.8->tensorflow==2.8.0->py2vision) (4.12.0)\n",
            "Requirement already satisfied: zipp>=0.5 in /usr/local/lib/python3.7/dist-packages (from importlib-metadata>=4.4->markdown>=2.6.8->tensorboard<2.9,>=2.8->tensorflow==2.8.0->py2vision) (3.8.1)\n",
            "Requirement already satisfied: pyasn1<0.5.0,>=0.4.6 in /usr/local/lib/python3.7/dist-packages (from pyasn1-modules>=0.2.1->google-auth<3,>=1.6.3->tensorboard<2.9,>=2.8->tensorflow==2.8.0->py2vision) (0.4.8)\n",
            "Requirement already satisfied: idna<3,>=2.5 in /usr/local/lib/python3.7/dist-packages (from requests<3,>=2.21.0->tensorboard<2.9,>=2.8->tensorflow==2.8.0->py2vision) (2.10)\n",
            "Requirement already satisfied: chardet<4,>=3.0.2 in /usr/local/lib/python3.7/dist-packages (from requests<3,>=2.21.0->tensorboard<2.9,>=2.8->tensorflow==2.8.0->py2vision) (3.0.4)\n",
            "Requirement already satisfied: certifi>=2017.4.17 in /usr/local/lib/python3.7/dist-packages (from requests<3,>=2.21.0->tensorboard<2.9,>=2.8->tensorflow==2.8.0->py2vision) (2022.6.15)\n",
            "Requirement already satisfied: urllib3!=1.25.0,!=1.25.1,<1.26,>=1.21.1 in /usr/local/lib/python3.7/dist-packages (from requests<3,>=2.21.0->tensorboard<2.9,>=2.8->tensorflow==2.8.0->py2vision) (1.24.3)\n",
            "Requirement already satisfied: oauthlib>=3.0.0 in /usr/local/lib/python3.7/dist-packages (from requests-oauthlib>=0.7.0->google-auth-oauthlib<0.5,>=0.4.1->tensorboard<2.9,>=2.8->tensorflow==2.8.0->py2vision) (3.2.0)\n",
            "Requirement already satisfied: python-dateutil>=2.7.3 in /usr/local/lib/python3.7/dist-packages (from pandas->py2vision) (2.8.2)\n",
            "Requirement already satisfied: pytz>=2017.3 in /usr/local/lib/python3.7/dist-packages (from pandas->py2vision) (2022.2.1)\n",
            "Building wheels for collected packages: wget\n",
            "  Building wheel for wget (setup.py) ... \u001b[?25l\u001b[?25hdone\n",
            "  Created wheel for wget: filename=wget-3.2-py3-none-any.whl size=9675 sha256=09d288292a8f0d8f3f23e5f102b121ee04db5c795b1bbfe3f0f4f1c939e4bc25\n",
            "  Stored in directory: /root/.cache/pip/wheels/a1/b6/7c/0e63e34eb06634181c63adacca38b79ff8f35c37e3c13e3c02\n",
            "Successfully built wget\n",
            "Installing collected packages: numpy, tf-estimator-nightly, wget, tensorflow, py2vision\n",
            "  Attempting uninstall: numpy\n",
            "    Found existing installation: numpy 1.21.6\n",
            "    Uninstalling numpy-1.21.6:\n",
            "      Successfully uninstalled numpy-1.21.6\n",
            "  Attempting uninstall: tensorflow\n",
            "    Found existing installation: tensorflow 2.8.2+zzzcolab20220719082949\n",
            "    Uninstalling tensorflow-2.8.2+zzzcolab20220719082949:\n",
            "      Successfully uninstalled tensorflow-2.8.2+zzzcolab20220719082949\n",
            "Successfully installed numpy-1.21.5 py2vision-1.0.3 tensorflow-2.8.0+zzzcolab20220506162203 tf-estimator-nightly-2.8.0.dev2021122109 wget-3.2\n"
          ]
        },
        {
          "data": {
            "application/vnd.colab-display-data+json": {
              "pip_warning": {
                "packages": [
                  "numpy"
                ]
              }
            }
          },
          "metadata": {},
          "output_type": "display_data"
        }
      ],
      "source": [
        "!pip install py2vision"
      ]
    },
    {
      "cell_type": "code",
      "execution_count": 4,
      "metadata": {
        "id": "Kv2gP6PANfH6"
      },
      "outputs": [],
      "source": [
        "from py2vision.input_output.camera import Camera\n",
        "from py2vision.stereo.standard_stereo import StandardStereo\n",
        "from py2vision.stereo.standard_stereo import StandardStereoBuilder\n",
        "from py2vision.stereo.match_method import Matcher\n",
        "from py2vision.stereo.match_method import StereoSGBM\n",
        "from py2vision.stereo.stereo_builder import StereoController"
      ]
    },
    {
      "cell_type": "markdown",
      "metadata": {
        "id": "c7Wt4LyzuH39"
      },
      "source": [
        "# Lesson 1: Calibrate a Stereo pair of cameras\n",
        "In this lesson you will learn how to use:\n",
        "\n",
        "- Camera(id, source)\n",
        "\n",
        "> - id id: A string to identify our camera.\n",
        "> - source: When you use webcam you need to put (int) 0, if you want to use videos or streaming, you will need to put his URL or path even you can put in a video file or a image path.\n",
        "\n",
        "- StandardStereo(cam_left: Camera, cam_right: Camera, fish_eye=True)\n",
        "\n",
        "> - cam_left: left camera instance.\n",
        "> - cam_right: right camera instance.\n",
        "> - fish_eye: A boolean if is true it will calibrate with cv2.fisheye.calibrate if no it'll use normal calibration, fish eye is recomended when cameras has an field of view (FOV) > 160.\n",
        "\n",
        "To calibrate an stereo Pair and get its **RMS error** to know when a calibration is good your RMS error has to be less than 1.\n"
      ]
    },
    {
      "cell_type": "markdown",
      "metadata": {
        "id": "iaxBfAbOwQ_h"
      },
      "source": [
        "### First we're gonna create our cameras instances"
      ]
    },
    {
      "cell_type": "code",
      "execution_count": 5,
      "metadata": {
        "id": "MxZqiy73GVct"
      },
      "outputs": [],
      "source": [
        "left_camera = Camera(\"left_camera\", \"imx_219_A\")\n",
        "right_camera = Camera(\"right_camera\", \"imx_219_B\")"
      ]
    },
    {
      "cell_type": "markdown",
      "metadata": {
        "id": "BI_1FKtYwqY_"
      },
      "source": [
        "### Now calibrate \n",
        "You should know something before about the method \n",
        "\n",
        "> **calibrate(images_left_path, images_right_path, pattern_type='chessboard', pattern_size=(8,5), show=True)**\n",
        "\n",
        "> Arguments:\n",
        "- images_left_path: folder where is saved left calibration pattern photos.\n",
        "- images_right_path: folder where is saved right calibration pattern photos.\n",
        "- pattern_type: It can be \"circles\" pattern or \"chessboard\" pattern (default).\n",
        "- pattern_size: If pattern_type is \"chessboard\"  this the Number of inner corners per a chessboard row and column. But If pattern_type is \"circles\" this will be the number of circles per row and column. \n",
        "- show: if is true it show corners or centers found by calibration algorithm at each iteration.\n",
        "\n",
        "> **Returns**: Three floats, The first is the reprojection error in left side,  the other is right side and the third is rms error (these have to be less than 1)\n",
        "\n",
        "Note: if you want a good calibration your images in **images_left_path** and **images_right_path** have to follow a format for example: **example/left_images/photo_1.jpg** and **example/right_images/photo_1.jpg**  the number is important because calibrate method order the pair of images with sorted method.\n"
      ]
    },
    {
      "cell_type": "code",
      "execution_count": 6,
      "metadata": {
        "colab": {
          "base_uri": "https://localhost:8080/"
        },
        "id": "Y5biqNyGXy-z",
        "outputId": "695ce490-6521-4962-8d24-682949991d24"
      },
      "outputs": [
        {
          "name": "stdout",
          "output_type": "stream",
          "text": [
            "Calibrating estereo...\n",
            "Camera parameters hasn't fixed\n",
            "Fixing left camera...\n",
            "Left camera error 0.196044268885419\n",
            "Fixing Right camera...\n",
            "Right camera error 0.18532068709086463\n",
            "Calibrating estereo...\n",
            "system calibrated\n"
          ]
        }
      ],
      "source": [
        "stereo_pair = StandardStereo(left_camera, right_camera)\n",
        "error_l, error_r, rms_error = stereo_pair.calibrate(\"LEFT_CAMERA_CALIBRATION_IMAGES_FOLDER\", \"RIGHT_CAMERA_CALIBRATION_IMAGES_FOLDER\", show=False)"
      ]
    },
    {
      "cell_type": "code",
      "execution_count": 7,
      "metadata": {
        "colab": {
          "base_uri": "https://localhost:8080/"
        },
        "id": "V1w43UrvX2_H",
        "outputId": "1b8ffc36-bd84-41c1-865c-2364f7dbbb42"
      },
      "outputs": [
        {
          "name": "stdout",
          "output_type": "stream",
          "text": [
            "Calibration error (left camera): 0.196044268885419\n",
            "Calibration error (right camera): 0.18532068709086463\n",
            "Stereo Calibration error: 0.2118487023885627\n",
            "Left camera:\n",
            "dist_coeffs : [[-0.02052823]\n",
            " [ 0.10633761]\n",
            " [-0.89543581]\n",
            " [ 1.67850114]]\n",
            "matrix : [[309.27979139   0.         346.02689527]\n",
            " [  0.         462.11985879 374.74264457]\n",
            " [  0.           0.           1.        ]]\n",
            "\n",
            "\n",
            "Right camera:\n",
            "dist_coeffs : [[-0.02052823]\n",
            " [ 0.10633761]\n",
            " [-0.89543581]\n",
            " [ 1.67850114]]\n",
            "matrix : [[309.27979139   0.         346.02689527]\n",
            " [  0.         462.11985879 374.74264457]\n",
            " [  0.           0.           1.        ]]\n",
            "\n",
            "\n",
            "Stereo:\n",
            "rot : [[ 0.99988568 -0.01454588  0.00412826]\n",
            " [ 0.01465657  0.99949522 -0.02818675]\n",
            " [-0.00371617  0.02824404  0.99959415]]\n",
            "trans : [[2.46141938]\n",
            " [0.00361231]\n",
            " [0.16162288]]\n"
          ]
        }
      ],
      "source": [
        "print(\"Calibration error (left camera): {}\".format(error_l))\n",
        "print(\"Calibration error (right camera): {}\".format(error_r))\n",
        "print(\"Stereo Calibration error: {}\".format(rms_error))\n",
        "stereo_pair.print_parameters()"
      ]
    },
    {
      "cell_type": "markdown",
      "metadata": {
        "id": "Gyoad9OPacjR"
      },
      "source": [
        "# Lesson 2: SGBM mathing (tune parameters)\n",
        "In this lesson you're gonna implement an Stereo parameters tunning to adjust all parameters used by Semi global block matching method, even you can change output to get a postprocessed disparity map that use WLS filter.\n",
        "\n",
        "Also you will learn how to use **rectify method** that belongs to StandardStereo class:\n",
        "> **rectify(image_left__dims, image_right_dims, export_file_name=\"stereoMap\", alpha=1, output_size=(0,0), export_file=True)**\n",
        "\n",
        "> Arguments:\n",
        "  - image_left__dims: a tuple or list with left image (width, height).\n",
        "  - image_right_dims: a tuple or list with right image (width, height).\n",
        "  - export_file_name: personalize the name of output file.\n",
        "  - alpha: free scaling parameter. If it is -1 or absent, the function performs the default scaling. Otherwise, the parameter should be between 0 and 1. alpha=0 means that the rectified images are zoomed and shifted so that only valid pixels are visible (no black areas after rectification). alpha=1 (default) means that the rectified image is decimated and shifted so that all the pixels from the original images from the cameras are retained in the rectified images (no source image pixels are lost). Any intermediate value yields an intermediate result between those two extreme cases.\n",
        "  - output_size: New image resolution after rectification. When (0,0) is passed (default), it is set to the original image Size . Setting it to a larger value can help you preserve details in the original image, especially when there is a big radial distortion.\n",
        "  - export_file: if is true this method will save the parameters in an xml with the name in export_file_name.\n",
        "\n",
        "Note: If you want to test this tuner you can change control variables and run once and once again, but a better practice is copy this code in your local machine and run it, becouse Colab doesn't allow you change Slide bars, you shouldn't forget all dependencies if you wanna run in local."
      ]
    },
    {
      "cell_type": "code",
      "execution_count": 8,
      "metadata": {
        "colab": {
          "base_uri": "https://localhost:8080/"
        },
        "id": "Z8wvnjfVlBz6",
        "outputId": "ea95ab3c-e761-49bd-b1e4-e9a74631c5d7"
      },
      "outputs": [
        {
          "name": "stdout",
          "output_type": "stream",
          "text": [
            "Calibrating estereo...\n",
            "Camera parameters hasn't fixed\n",
            "Fixing left camera...\n",
            "Left camera error 0.196044268885419\n",
            "Fixing Right camera...\n",
            "Right camera error 0.18532068709086463\n",
            "Calibrating estereo...\n",
            "system calibrated\n",
            "Saving parameters!\n",
            "Left camera:\n",
            "dist_coeffs : [[-0.02052823]\n",
            " [ 0.10633761]\n",
            " [-0.89543581]\n",
            " [ 1.67850114]]\n",
            "matrix : [[309.27979139   0.         346.02689527]\n",
            " [  0.         462.11985879 374.74264457]\n",
            " [  0.           0.           1.        ]]\n",
            "\n",
            "\n",
            "Right camera:\n",
            "dist_coeffs : [[-0.02052823]\n",
            " [ 0.10633761]\n",
            " [-0.89543581]\n",
            " [ 1.67850114]]\n",
            "matrix : [[309.27979139   0.         346.02689527]\n",
            " [  0.         462.11985879 374.74264457]\n",
            " [  0.           0.           1.        ]]\n",
            "\n",
            "\n",
            "Stereo:\n",
            "Q : [[   1.            0.            0.         -310.1509036 ]\n",
            " [   0.            1.            0.         -381.88085753]\n",
            " [   0.            0.            0.          585.42540652]\n",
            " [   0.            0.           -0.40539621   -0.81048921]]\n",
            "rot : [[ 0.99988568 -0.01454588  0.00412826]\n",
            " [ 0.01465657  0.99949522 -0.02818675]\n",
            " [-0.00371617  0.02824404  0.99959415]]\n",
            "trans : [[2.46141938]\n",
            " [0.00361231]\n",
            " [0.16162288]]\n"
          ]
        }
      ],
      "source": [
        "# To initialize stereo pair images, calibrate and rectify\n",
        "left_camera = Camera(\"left_camera\", \"PUT_AN_LEFT_IMAGE_PATH\")\n",
        "right_camera = Camera(\"right_camera\", \"PUT_AN_RIGHT_IMAGE_PATH\")\n",
        "stereo_pair_fisheye = StandardStereo(left_camera, right_camera)\n",
        "stereo_maps_path = \"/content/stereoMap\"\n",
        "stereo_pair_fisheye.calibrate(\"LEFT_CAMERA_CALIBRATION_IMAGES_FOLDER\", \"RIGHT_CAMERA_CALIBRATION_IMAGES_FOLDER\", show=False)\n",
        "stereo_pair_fisheye.rectify((640, 720), (640, 720), export_file=True, export_file_name=stereo_maps_path)\n",
        "builder = StandardStereoBuilder(left_camera, right_camera, stereo_maps_path + \".xml\")\n",
        "left = cv.imread(left_camera.source)\n",
        "right = cv.imread(right_camera.source)\n",
        "stereo_pair_fisheye.print_parameters()"
      ]
    },
    {
      "cell_type": "markdown",
      "metadata": {
        "id": "8jGqkYQjMbBS"
      },
      "source": [
        "### Control variables"
      ]
    },
    {
      "cell_type": "code",
      "execution_count": 9,
      "metadata": {
        "id": "s-ba6bpsMMw7"
      },
      "outputs": [],
      "source": [
        "\n",
        "global left_for_matcher, right_for_matcher, post_process \n",
        "downsample = None\n",
        "post_process = True\n",
        "min_disp = -16\n",
        "num_disp = 32\n",
        "window_size = 3\n",
        "p1 = 125\n",
        "p2 = 1376\n",
        "pre_filter_cap = 57\n",
        "speckle_window_size = 114\n",
        "speckle_range = 9\n",
        "uniqueness_ratio = 3\n",
        "disp_12_max_diff = -38\n",
        "lmbda = 19132\n",
        "sigma = 1.046"
      ]
    },
    {
      "cell_type": "code",
      "execution_count": 10,
      "metadata": {
        "id": "MT4eKym2MrE5"
      },
      "outputs": [],
      "source": [
        "# rectified images\n",
        "left_for_matcher, right_for_matcher = builder.pre_process(left, right, downsample)"
      ]
    },
    {
      "cell_type": "markdown",
      "metadata": {
        "id": "ZEhX-5d6NDha"
      },
      "source": [
        "### Tune environment"
      ]
    },
    {
      "cell_type": "code",
      "execution_count": 11,
      "metadata": {
        "colab": {
          "base_uri": "https://localhost:8080/",
          "height": 306
        },
        "id": "ieOZzMVANrBs",
        "outputId": "b9c37ebf-42d3-4c7d-a457-816fd19fd15b"
      },
      "outputs": [
        {
          "name": "stdout",
          "output_type": "stream",
          "text": [
            "Show interface to user\n"
          ]
        },
        {
          "data": {
            "image/png": "[encoded data removed]",
            "text/plain": [
              "<Figure size 432x288 with 16 Axes>"
            ]
          },
          "metadata": {
            "needs_background": "light"
          },
          "output_type": "display_data"
        }
      ],
      "source": [
        "fig = plt.subplots(1,2)\n",
        "if post_process:\n",
        "    plt.subplots_adjust(left=0.15, bottom=0.55)\n",
        "else:\n",
        "    plt.subplots_adjust(left=0.15, bottom=0.5)\n",
        "plt.subplot(1,2,1)\n",
        "dmObject = plt.imshow(left_for_matcher, 'gray')\n",
        "\n",
        "def get_stereo_map():\n",
        "  sgbm = StereoSGBM(min_disp=min_disp, max_disp=num_disp, window_size=window_size, p1=p1, p2=p2, pre_filter_cap=pre_filter_cap, speckle_window_size=speckle_window_size, speckle_range=speckle_range, uniqueness_ratio=uniqueness_ratio, disp_12_max_diff=disp_12_max_diff)\n",
        "  matcher = Matcher(sgbm)\n",
        "  left_disp, right_disp, left_matcher = builder.match(left_for_matcher, right_for_matcher, matcher, metrics=False)\n",
        "  # To postprocess\n",
        "  if post_process:\n",
        "    left_disp = builder.post_process(left_for_matcher, left_disp, right_disp, left_matcher, lmbda=lmbda, sigma=sigma, metrics=False)\n",
        "  if downsample in [1, None, False]:\n",
        "    n_upsamples = 0\n",
        "  else:\n",
        "    n_upsamples = [2**p for p in range(1, 7)].index(downsample)\n",
        "    n_upsamples += 1\n",
        "  if n_upsamples > 0:\n",
        "    for i in range(n_upsamples):\n",
        "      left_disp = cv.pyrUp(left_disp)\n",
        "  left_disp = builder.estimate_disparity_colormap(left_disp)\n",
        "  return left_disp\n",
        "\n",
        "def load_settings(event):\n",
        "  global min_disp, num_disp, window_size, p1, p2, pre_filter_cap, speckle_range, uniqueness_ratio, disp_12_max_diff, speckle_window_size, loading_settings, lmbda, sigma\n",
        "  loading_settings = 1\n",
        "  file_name = 'SGBM_disparity_parameters_set.txt'\n",
        "  print('Loading parameters from file...')\n",
        "  button_load.label.set_text (\"Loading...\")\n",
        "  f=open(file_name, 'r')\n",
        "  data = json.load(f)\n",
        "  slider_min_disparity.set_val(data['minDisparity'])\n",
        "  slider_num_disparity.set_val(data['numberOfDisparities'])\n",
        "  slider_block_size.set_val(data['windowSize'])\n",
        "  slider_p1.set_val(data['p1'])\n",
        "  slider_p2.set_val(data['p2'])\n",
        "  slider_pre_filter_cap.set_val(data['preFilterCap'])\n",
        "  slider_speckle_window_size.set_val(data['speckleWindowSize'])\n",
        "  slider_speckle_range.set_val(data['speckleRange'])\n",
        "  slider_uniqueness_ratio.set_val(data['uniquenessRatio'])\n",
        "  slider_disp_12_max_diff.set_val(data['disp12MaxDiff'])\n",
        "  if post_process:\n",
        "    slider_lambda.set_val(data['lambda'])\n",
        "    slider_sigma.set_val(data['sigma'])\n",
        "  f.close()\n",
        "  button_load.label.set_text (\"Load settings\")\n",
        "  print ('Parameters loaded from file '+ file_name)\n",
        "  print ('Redrawing depth map with loaded parameters...')\n",
        "  loading_settings = 0\n",
        "  update(0)\n",
        "  print ('Done!')\n",
        "\n",
        "def save_settings(event):\n",
        "  button_save.label.set_text (\"Saving...\")\n",
        "  print('Saving to file...') \n",
        "  result = json.dumps({'windowSize' : window_size, 'preFilterCap' : pre_filter_cap, \\\n",
        "        'minDisparity' : min_disp, 'numberOfDisparities' : num_disp, 'p1' : p1, \\\n",
        "        'p2' : p2, 'uniquenessRatio': uniqueness_ratio, 'disp12MaxDiff' : disp_12_max_diff, \\\n",
        "        'speckleRange': speckle_range, 'speckleWindowSize': speckle_window_size, 'lambda': lmbda, 'sigma': sigma},\\\n",
        "        sort_keys=True, indent=4, separators=(',',':'))\n",
        "  file_name = 'SGBM_disparity_parameters_set.txt'\n",
        "  f = open (str(file_name), 'w') \n",
        "  f.write(result)\n",
        "  f.close()\n",
        "  button_save.label.set_text (\"Save to file\")\n",
        "  print ('Settings saved to file ' + file_name)\n",
        "    \n",
        "axcolor = 'lightgoldenrodyellow'\n",
        "if post_process:\n",
        "    save_axe = plt.axes([0.3, 0.46, 0.15, 0.04]) #stepX stepY width height\n",
        "    button_save = Button(save_axe, 'Save settings', color=axcolor, hovercolor='0.975')\n",
        "    button_save.on_clicked(save_settings)\n",
        "    load_axe = plt.axes([0.5, 0.46, 0.15, 0.04]) #stepX stepY width height\n",
        "    button_load = Button(load_axe, 'Load settings', color=axcolor, hovercolor='0.975')\n",
        "    button_load.on_clicked(load_settings)\n",
        "else:\n",
        "    save_axe = plt.axes([0.3, 0.38, 0.15, 0.04]) #stepX stepY width height\n",
        "    button_save = Button(save_axe, 'Save settings', color=axcolor, hovercolor='0.975')\n",
        "    button_save.on_clicked(save_settings)\n",
        "    load_axe = plt.axes([0.5, 0.38, 0.15, 0.04]) #stepX stepY width height\n",
        "    button_load = Button(load_axe, 'Load settings', color=axcolor, hovercolor='0.975')\n",
        "    button_load.on_clicked(load_settings)\n",
        "\n",
        "disparity = get_stereo_map()\n",
        "plt.subplot(1,2,2)\n",
        "dmObject = plt.imshow(disparity)\n",
        "#dmObject = plt.imshow(disparity, \"gray\")\n",
        "\n",
        "min_disparity_axe = plt.axes([0.15, 0.01, 0.7, 0.025], facecolor=axcolor) #stepX stepY width height\n",
        "num_disparity_axe = plt.axes([0.15, 0.05, 0.7, 0.025], facecolor=axcolor) #stepX stepY width height\n",
        "block_size_axe = plt.axes([0.15, 0.09, 0.7, 0.025], facecolor=axcolor) #stepX stepY width height\n",
        "p1_axe = plt.axes([0.15, 0.13, 0.7, 0.025], facecolor=axcolor) #stepX stepY width height\n",
        "p2_axe = plt.axes([0.15, 0.17, 0.7, 0.025], facecolor=axcolor) #stepX stepY width height\n",
        "pre_filter_cap_axe = plt.axes([0.15, 0.21, 0.7, 0.025], facecolor=axcolor) #stepX stepY width height\n",
        "speckle_window_size_axe = plt.axes([0.15, 0.25, 0.7, 0.025], facecolor=axcolor) #stepX stepY width height\n",
        "speckle_range_axe = plt.axes([0.15, 0.29, 0.7, 0.025], facecolor=axcolor) #stepX stepY width height\n",
        "uniqueness_ratio_axe = plt.axes([0.15, 0.33, 0.7, 0.025], facecolor=axcolor) #stepX stepY width height\n",
        "disp_12_max_diff_axe = plt.axes([0.15, 0.37, 0.7, 0.025], facecolor=axcolor) #stepX stepY width height\n",
        "if post_process:\n",
        "  lambda_axe = plt.axes([0.15, 0.41, 0.7, 0.025], facecolor=axcolor) #stepX stepY width height\n",
        "  sigma_axe = plt.axes([0.15, 0.45, 0.7, 0.025], facecolor=axcolor) #stepX stepY width height\n",
        "\n",
        "slider_min_disparity = Slider(min_disparity_axe, \"min disparity\", -256, 256, valinit=min_disp)\n",
        "slider_num_disparity = Slider(num_disparity_axe, \"num disparities\", 0, 512, valinit=num_disp)\n",
        "slider_block_size = Slider(block_size_axe, \"block size\", 2, 51, valinit=window_size)\n",
        "slider_p1 = Slider(p1_axe, \"P1\", 0, 3000, valinit=p1)\n",
        "slider_p2 = Slider(p2_axe, \"P2\", 0, 8000, valinit=p2)\n",
        "slider_pre_filter_cap = Slider(pre_filter_cap_axe, \"Pre filter cap\", 0, 63, valinit=pre_filter_cap)\n",
        "slider_speckle_window_size = Slider(speckle_window_size_axe, \"Speckle window size\", 0, 500, valinit=speckle_window_size)\n",
        "slider_speckle_range = Slider(speckle_range_axe, \"Speckle range\", 0, 50, valinit=speckle_range)\n",
        "slider_uniqueness_ratio = Slider(uniqueness_ratio_axe, \"Uniqueness ratio\", 1, 20, valinit=uniqueness_ratio)\n",
        "slider_disp_12_max_diff = Slider(disp_12_max_diff_axe, \"Disp 12 max diff\", -64, 128, valinit=disp_12_max_diff)\n",
        "if post_process:\n",
        "  slider_lambda = Slider(lambda_axe, \"Lambda\", 0, 26000, valinit=lmbda)\n",
        "  slider_sigma = Slider(sigma_axe, \"sigma\", 0, 5, valinit=sigma)\n",
        "\n",
        "def update(val):\n",
        "  global min_disp, num_disp, window_size, p1, p2, pre_filter_cap, speckle_range, uniqueness_ratio, disp_12_max_diff, speckle_window_size,lmbda, sigma\n",
        "  #update sliders\n",
        "  min_disp = int(slider_min_disparity.val)\n",
        "  num_disp = int(slider_num_disparity.val/16)*16\n",
        "  if slider_block_size.val % 2 == 0:\n",
        "    slider_block_size.val += 1\n",
        "  window_size = int(slider_block_size.val)\n",
        "  p1 = int(slider_p1.val)\n",
        "  p2 = int(slider_p2.val)\n",
        "  pre_filter_cap = int(slider_pre_filter_cap.val)\n",
        "  speckle_window_size = int(slider_speckle_window_size.val)\n",
        "  speckle_range = int(slider_speckle_range.val)\n",
        "  uniqueness_ratio = int(slider_uniqueness_ratio.val)\n",
        "  disp_12_max_diff = int(slider_disp_12_max_diff.val)\n",
        "  if post_process:\n",
        "    lmbda = slider_lambda.val\n",
        "    sigma = slider_sigma.val\n",
        "  assert ValueError\n",
        "  if (loading_settings==0):\n",
        "    print ('Rebuilding depth map')\n",
        "    disparity = get_stereo_map()\n",
        "    dmObject.set_data(disparity)\n",
        "    print ('Redraw depth map')\n",
        "    plt.draw()\n",
        "\n",
        "slider_min_disparity.on_changed(update)\n",
        "slider_num_disparity.on_changed(update)\n",
        "slider_block_size.on_changed(update)\n",
        "slider_p1.on_changed(update)\n",
        "slider_p2.on_changed(update)\n",
        "slider_pre_filter_cap.on_changed(update)\n",
        "slider_speckle_window_size.on_changed(update)\n",
        "slider_speckle_range.on_changed(update)\n",
        "slider_uniqueness_ratio.on_changed(update)\n",
        "slider_disp_12_max_diff.on_changed(update)\n",
        "\n",
        "if post_process:\n",
        "  slider_lambda.on_changed(update)\n",
        "  slider_sigma.on_changed(update)\n",
        "\n",
        "print('Show interface to user')\n",
        "plt.show()"
      ]
    },
    {
      "cell_type": "markdown",
      "metadata": {
        "id": "gKOdtnuuBkrI"
      },
      "source": [
        "# Lesson 3: Disparity maps\n",
        "Her you will learn how to get a disparity map using StereoController, StandardStereoBuilder and Matcher:\n",
        "\n",
        "> StereoController(): This class is to implement each necessary step to get a disparity map, 3D map, points in homogeneous coordinates or a disparity map in color\n",
        "\n",
        "> StandardStereoBuilder(cam_left: Camera, cam_right: Camera, stereo_maps_path):\n",
        "  Implement methods to get depth using OpenCV matchers like SGBM or BM.\n",
        "\n",
        "> Arguments:\n",
        "- camL: left camera instance.\n",
        "- camR: right camera instance.\n",
        "- stereo_maps_path: an xml with Stereo rectification maps\n",
        "\n",
        "> Matcher(strategy: MatcherStrategy)\n",
        "- MatcherStrategy is a class like StereoSGBM\n",
        "> StereoSGBM(min_disp=0, max_disp=160, window_size=3, p1=24*3*3, p2=96*3*3, pre_filter_cap=63, mode=cv.StereoSGBM_MODE_HH, speckle_window_size=1100, speckle_range=1, uniqueness_ratio=5, disp_12_max_diff=-1)\n",
        "\n",
        "> Arguments:\n",
        "- min_disp: Minimum possible disparity value. Normally, it is zero but sometimes rectification algorithms can shift images, so this parameter needs to be adjusted accordingly.\n",
        "- max_disp: Maximum disparity minus minimum disparity. The value is always greater than zero. In the current implementation, this parameter must be divisible by 16.\n",
        "- window_size: Matched block size. It must be an odd number >=1 . Normally, it should be somewhere in the 3..11 range.\n",
        "- p1: The first parameter controlling the disparity smoothness. \n",
        "- p2: \tThe second parameter controlling the disparity smoothness. The larger the values are, the smoother the disparity is. P1 is the penalty on the disparity change by plus or minus 1 between neighbor pixels. P2 is the penalty on the disparity change by more than 1 between neighbor pixels. The algorithm requires P2 > P1 . See stereo_match.cpp sample where some reasonably good P1 and P2 values are shown (like 8*number_of_image_channels*SADWindowSize*SADWindowSize and 32*number_of_image_channels*SADWindowSize*SADWindowSize , respectively).\n",
        "- pre_filter_cap: Truncation value for the prefiltered image pixels. The algorithm first computes x-derivative at each pixel and clips its value by [-preFilterCap, preFilterCap] interval. The result values are passed to the Birchfield-Tomasi pixel cost function.\n",
        "- mode: Set it to StereoSGBM_MODE_HH to run the full-scale two-pass dynamic programming algorithm. It will consume O(W*H*numDisparities) bytes, which is large for 640x480 stereo and huge for HD-size pictures. By default, it is set to false .\n",
        "- speckle_window_size: Maximum size of smooth disparity regions to consider their noise speckles and invalidate. Set it to 0 to disable speckle filtering. Otherwise, set it somewhere in the 50-200 range.\n",
        "- speckle_range: Maximum disparity variation within each connected component. If you do speckle filtering, set the parameter to a positive value, it will be implicitly multiplied by 16. Normally, 1 or 2 is good enough.\n",
        "- uniqueness_ratio: Margin in percentage by which the best (minimum) computed cost function value should \"win\" the second best value to consider the found match correct. Normally, a value within the 5-15 range is good enough.\n",
        "- disp_12_max_diff: Maximum allowed difference (in integer pixel units) in the left-right disparity check. Set it to a non-positive value to disable the check."
      ]
    },
    {
      "cell_type": "code",
      "execution_count": 12,
      "metadata": {
        "colab": {
          "base_uri": "https://localhost:8080/"
        },
        "id": "SZxw7HQmBjYM",
        "outputId": "de814c00-9f80-43a7-de08-d9eaa530719f"
      },
      "outputs": [
        {
          "name": "stdout",
          "output_type": "stream",
          "text": [
            "Calibrating estereo...\n",
            "Camera parameters hasn't fixed\n",
            "Fixing left camera...\n",
            "Left camera error 0.196044268885419\n",
            "Fixing Right camera...\n",
            "Right camera error 0.18532068709086463\n",
            "Calibrating estereo...\n",
            "system calibrated\n",
            "Saving parameters!\n"
          ]
        }
      ],
      "source": [
        "# First calibrate and rectify\n",
        "left_camera = Camera(\"left_camera\", \"PUT_AN_LEFT_IMAGE_PATH\")\n",
        "right_camera = Camera(\"right_camera\", \"PUT_AN_RIGHT_IMAGE_PATH\")\n",
        "stereo_pair_fisheye = StandardStereo(left_camera, right_camera)\n",
        "stereo_maps_path = \"/content/stereoMap\"\n",
        "stereo_pair_fisheye.calibrate(\"LEFT_CAMERA_CALIBRATION_IMAGES_FOLDER\", \"RIGHT_CAMERA_CALIBRATION_IMAGES_FOLDER\", show=False)\n",
        "stereo_pair_fisheye.rectify((640, 720), (640, 720), export_file=True, export_file_name=stereo_maps_path)\n",
        "builder = StandardStereoBuilder(left_camera, right_camera, stereo_maps_path + \".xml\")"
      ]
    },
    {
      "cell_type": "code",
      "execution_count": 13,
      "metadata": {
        "colab": {
          "base_uri": "https://localhost:8080/",
          "height": 321
        },
        "id": "_o5e7Tm5Lpf6",
        "outputId": "2dfddaec-d2d7-4bd1-88e4-567a0925c647"
      },
      "outputs": [
        {
          "name": "stdout",
          "output_type": "stream",
          "text": [
            "computing disparity...\n",
            "matching time: 0.18806171417236328 s\n",
            "postprocessing time: 0.018210649490356445 s\n"
          ]
        },
        {
          "data": {
            "image/png": "[encoded data removed]",
            "text/plain": [
              "<Figure size 432x288 with 1 Axes>"
            ]
          },
          "metadata": {
            "needs_background": "light"
          },
          "output_type": "display_data"
        }
      ],
      "source": [
        "# Matching to get a disparity map in black an white\n",
        "sgbm = StereoSGBM(-63, 64, 3, 27, 519, 10, cv.StereoSGBM_MODE_HH, 0, 22, 1, 70)\n",
        "matcher = Matcher(sgbm)\n",
        "stereo_controller = StereoController()\n",
        "stereo_controller.stereo_builder = builder\n",
        "frame_left = cv.imread(left_camera.source)\n",
        "frame_right = cv.imread(right_camera.source)\n",
        "disparity, _ = stereo_controller.compute_disparity(frame_left, frame_right, matcher, None, 22386, 1.242, True, True)\n",
        "plt.imshow(disparity, \"gray\")\n",
        "plt.show()"
      ]
    },
    {
      "cell_type": "code",
      "execution_count": 14,
      "metadata": {
        "colab": {
          "base_uri": "https://localhost:8080/",
          "height": 321
        },
        "id": "3bEUkjnLTam-",
        "outputId": "7ac59aae-d1b2-4f03-f4b4-8779d4126e0a"
      },
      "outputs": [
        {
          "name": "stdout",
          "output_type": "stream",
          "text": [
            "computing disparity...\n",
            "matching time: 0.18427491188049316 s\n",
            "postprocessing time: 0.01621556282043457 s\n"
          ]
        },
        {
          "data": {
            "image/png": "[encoded data removed]",
            "text/plain": [
              "<Figure size 432x288 with 1 Axes>"
            ]
          },
          "metadata": {
            "needs_background": "light"
          },
          "output_type": "display_data"
        }
      ],
      "source": [
        "# Matching to get a disparity color map\n",
        "disparity_color, _ = stereo_controller.compute_disparity_color_map(frame_left, frame_right, matcher, None, 22386, 1.242, True, True)\n",
        "plt.imshow(disparity_color)\n",
        "plt.show()"
      ]
    }
  ],
  "metadata": {
    "accelerator": "GPU",
    "colab": {
      "collapsed_sections": [],
      "machine_shape": "hm",
      "provenance": []
    },
    "gpuClass": "standard",
    "kernelspec": {
      "display_name": "Python 3.8.10 64-bit",
      "language": "python",
      "name": "python3"
    },
    "language_info": {
      "name": "python",
      "version": "3.8.10"
    },
    "vscode": {
      "interpreter": {
        "hash": "916dbcbb3f70747c44a77c7bcd40155683ae19c65e1c03b4aa3499c5328201f1"
      }
    }
  },
  "nbformat": 4,
  "nbformat_minor": 0
}
